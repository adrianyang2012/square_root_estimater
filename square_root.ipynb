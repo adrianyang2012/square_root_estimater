{
  "nbformat": 4,
  "nbformat_minor": 0,
  "metadata": {
    "colab": {
      "private_outputs": true,
      "provenance": [],
      "authorship_tag": "ABX9TyP1U3nTnkWXNuvjubGEySez",
      "include_colab_link": true
    },
    "kernelspec": {
      "name": "python3",
      "display_name": "Python 3"
    },
    "language_info": {
      "name": "python"
    }
  },
  "cells": [
    {
      "cell_type": "markdown",
      "metadata": {
        "id": "view-in-github",
        "colab_type": "text"
      },
      "source": [
        "<a href=\"https://colab.research.google.com/github/adrianyang2012/square_root_estimater/blob/main/square_root.ipynb\" target=\"_parent\"><img src=\"https://colab.research.google.com/assets/colab-badge.svg\" alt=\"Open In Colab\"/></a>"
      ]
    },
    {
      "cell_type": "code",
      "execution_count": null,
      "metadata": {
        "id": "ujvfzQIX9eVC"
      },
      "outputs": [],
      "source": [
        "import matplotlib.pyplot as plt\n",
        "def square_root(num,plot=0,accuracy=100):\n",
        "  imaginary = 0\n",
        "  if num == 0:\n",
        "    return 0\n",
        "  if num < 0:\n",
        "    imaginary = 1\n",
        "    num = -num\n",
        "  if num == 1:\n",
        "    return 1\n",
        "  closest = float('inf')\n",
        "  x = 0\n",
        "  for i in range(1,num):\n",
        "    if abs(i**2-num)<closest:\n",
        "      closest = abs(i**2-num)\n",
        "      x = i\n",
        "\n",
        "  if plot:\n",
        "    li = []\n",
        "  for i in range(0,accuracy):\n",
        "    x = 0.5*(num/x + x)\n",
        "    if plot:\n",
        "      li.append(x)\n",
        "\n",
        "  if plot:\n",
        "\n",
        "    plt.plot(li)\n",
        "    plt.show()\n",
        "  if not imaginary:\n",
        "    return (x)\n",
        "  else:\n",
        "    return str(x)+'i'\n",
        "square_root(1000)"
      ]
    }
  ]
}